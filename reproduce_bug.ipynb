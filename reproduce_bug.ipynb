{
 "cells": [
  {
   "cell_type": "markdown",
   "metadata": {},
   "source": [
    "# Small ResNet Block"
   ]
  },
  {
   "cell_type": "code",
   "execution_count": 8,
   "metadata": {},
   "outputs": [
    {
     "name": "stderr",
     "output_type": "stream",
     "text": [
      "/home/null/miniconda3/envs/cleanrl/lib/python3.7/site-packages/torch/ao/quantization/observer.py:216: UserWarning: Please use quant_min and quant_max to specify the range for observers.                     reduce_range will be deprecated in a future release of PyTorch.\n",
      "  reduce_range will be deprecated in a future release of PyTorch.\"\n",
      "/home/null/miniconda3/envs/cleanrl/lib/python3.7/site-packages/torch/ao/quantization/utils.py:288: UserWarning: must run observer before calling calculate_qparams. Returning default values.\n",
      "  \"must run observer before calling calculate_qparams. \" +\n"
     ]
    }
   ],
   "source": [
    "## PyTorch nn.module\n",
    "import torch\n",
    "import torch.nn as nn\n",
    "from torch.ao.quantization.quantize_fx import prepare_qat_fx , convert_fx , convert_to_reference_fx\n",
    "from torch.ao.quantization.qconfig_mapping import get_default_qat_qconfig_mapping \n",
    "\n",
    "class ResNet(nn.Module):\n",
    "    def __init__(self):\n",
    "        super().__init__()\n",
    "        self.conv = nn.Conv2d(3, 3, 1)\n",
    "        self.bn1 = nn.BatchNorm2d(3)\n",
    "        self.relu = nn.ReLU()\n",
    "        self.max_pool = nn.MaxPool2d(1)\n",
    "\n",
    "    def forward(self, x):\n",
    "        return self.max_pool(self.relu(self.bn1(self.conv(x))))\n",
    "## Convert the prepare_qat_fx using torch fx\n",
    "model = ResNet()\n",
    "## Prepare the model for quantization\n",
    "model_prepared = prepare_qat_fx(\n",
    "     model , \n",
    "    get_default_qat_qconfig_mapping(\"fbgemm\") ,\n",
    "    torch.rand(1, 3, 224, 224)\n",
    ")"
   ]
  },
  {
   "cell_type": "code",
   "execution_count": null,
   "metadata": {},
   "outputs": [],
   "source": [
    "# Trian the "
   ]
  },
  {
   "cell_type": "code",
   "execution_count": 9,
   "metadata": {},
   "outputs": [
    {
     "name": "stdout",
     "output_type": "stream",
     "text": [
      "model_int8 GraphModule(\n",
      "  (conv): ConvReLU2d(\n",
      "    (0): QuantizedConv2d(Reference)(3, 3, kernel_size=(1, 1), stride=(1, 1))\n",
      "    (1): ReLU()\n",
      "  )\n",
      "  (max_pool): MaxPool2d(kernel_size=1, stride=1, padding=0, dilation=1, ceil_mode=False)\n",
      ")\n",
      "\n",
      "\n",
      "\n",
      "def forward(self, x):\n",
      "    conv_input_scale_0 = self.conv_input_scale_0\n",
      "    conv_input_zero_point_0 = self.conv_input_zero_point_0\n",
      "    quantize_per_tensor = torch.quantize_per_tensor(x, conv_input_scale_0, conv_input_zero_point_0, torch.quint8);  x = conv_input_scale_0 = conv_input_zero_point_0 = None\n",
      "    dequantize = quantize_per_tensor.dequantize();  quantize_per_tensor = None\n",
      "    conv = self.conv(dequantize);  dequantize = None\n",
      "    conv_scale_0 = self.conv_scale_0\n",
      "    conv_zero_point_0 = self.conv_zero_point_0\n",
      "    quantize_per_tensor_1 = torch.quantize_per_tensor(conv, conv_scale_0, conv_zero_point_0, torch.quint8);  conv = conv_scale_0 = conv_zero_point_0 = None\n",
      "    dequantize_1 = quantize_per_tensor_1.dequantize();  quantize_per_tensor_1 = None\n",
      "    max_pool = self.max_pool(dequantize_1);  dequantize_1 = None\n",
      "    max_pool_scale_0 = self.max_pool_scale_0\n",
      "    max_pool_zero_point_0 = self.max_pool_zero_point_0\n",
      "    quantize_per_tensor_2 = torch.quantize_per_tensor(max_pool, max_pool_scale_0, max_pool_zero_point_0, torch.quint8);  max_pool = max_pool_scale_0 = max_pool_zero_point_0 = None\n",
      "    dequantize_2 = quantize_per_tensor_2.dequantize();  quantize_per_tensor_2 = None\n",
      "    return dequantize_2\n",
      "    \n",
      "# To see more debug info, please use `graph_module.print_readable()`\n",
      "<class 'torch.fx.graph_module.GraphModule.__new__.<locals>.GraphModuleImpl'>\n"
     ]
    }
   ],
   "source": [
    "print( \"model_int8\" , model_int8)\n",
    "print( type (model_int8))"
   ]
  }
 ],
 "metadata": {
  "kernelspec": {
   "display_name": "Python 3.7.13 ('cleanrl')",
   "language": "python",
   "name": "python3"
  },
  "language_info": {
   "codemirror_mode": {
    "name": "ipython",
    "version": 3
   },
   "file_extension": ".py",
   "mimetype": "text/x-python",
   "name": "python",
   "nbconvert_exporter": "python",
   "pygments_lexer": "ipython3",
   "version": "3.7.13"
  },
  "orig_nbformat": 4,
  "vscode": {
   "interpreter": {
    "hash": "3b8210207dea593cd78a47d19ab578efef95523f0b438f1eecba204cd30d51d3"
   }
  }
 },
 "nbformat": 4,
 "nbformat_minor": 2
}
