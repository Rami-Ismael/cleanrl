{
 "cells": [
  {
   "cell_type": "code",
   "execution_count": 1,
   "metadata": {},
   "outputs": [
    {
     "name": "stderr",
     "output_type": "stream",
     "text": [
      "/home/null/miniconda3/envs/cleanrl/lib/python3.7/site-packages/tqdm/auto.py:22: TqdmWarning: IProgress not found. Please update jupyter and ipywidgets. See https://ipywidgets.readthedocs.io/en/stable/user_install.html\n",
      "  from .autonotebook import tqdm as notebook_tqdm\n",
      "Downloading readme: 100%|██████████| 590/590 [00:00<00:00, 366kB/s]\n",
      "Using custom data configuration Rami--multi-label-class-github-issues-text-classification-536eed6299144ba0\n"
     ]
    },
    {
     "name": "stdout",
     "output_type": "stream",
     "text": [
      "Downloading and preparing dataset None/None to /home/null/.cache/huggingface/datasets/Rami___parquet/Rami--multi-label-class-github-issues-text-classification-536eed6299144ba0/0.0.0/2a3b91fbd88a2c90d1dbbb32b460cf621d31bd5b05b934492fdef7d8d6f236ec...\n"
     ]
    },
    {
     "name": "stderr",
     "output_type": "stream",
     "text": [
      "Downloading data: 100%|██████████| 580k/580k [00:00<00:00, 11.9MB/s]\n",
      "Downloading data: 100%|██████████| 567k/567k [00:00<00:00, 6.37MB/s]]\n",
      "Downloading data: 100%|██████████| 1.18M/1.18M [00:00<00:00, 8.33MB/s]\n",
      "Downloading data files: 100%|██████████| 3/3 [00:02<00:00,  1.12it/s]\n",
      "Extracting data files: 100%|██████████| 3/3 [00:00<00:00, 950.08it/s]\n",
      "                                                                       \r"
     ]
    },
    {
     "name": "stdout",
     "output_type": "stream",
     "text": [
      "Dataset parquet downloaded and prepared to /home/null/.cache/huggingface/datasets/Rami___parquet/Rami--multi-label-class-github-issues-text-classification-536eed6299144ba0/0.0.0/2a3b91fbd88a2c90d1dbbb32b460cf621d31bd5b05b934492fdef7d8d6f236ec. Subsequent calls will reuse this data.\n"
     ]
    },
    {
     "name": "stderr",
     "output_type": "stream",
     "text": [
      "100%|██████████| 3/3 [00:00<00:00, 372.22it/s]\n"
     ]
    }
   ],
   "source": [
    "from datasets import load_dataset\n",
    "\n",
    "dataset = load_dataset(\"Rami/multi-label-class-github-issues-text-classification\")"
   ]
  },
  {
   "cell_type": "code",
   "execution_count": 2,
   "metadata": {},
   "outputs": [
    {
     "name": "stdout",
     "output_type": "stream",
     "text": [
      "DatasetDict({\n",
      "    valid: Dataset({\n",
      "        features: ['title', 'labels', 'bodyText'],\n",
      "        num_rows: 778\n",
      "    })\n",
      "    test: Dataset({\n",
      "        features: ['title', 'labels', 'bodyText'],\n",
      "        num_rows: 778\n",
      "    })\n",
      "    train: Dataset({\n",
      "        features: ['title', 'labels', 'bodyText'],\n",
      "        num_rows: 1556\n",
      "    })\n",
      "})\n"
     ]
    }
   ],
   "source": [
    "print( dataset)"
   ]
  }
 ],
 "metadata": {
  "kernelspec": {
   "display_name": "Python 3.7.13 ('cleanrl')",
   "language": "python",
   "name": "python3"
  },
  "language_info": {
   "codemirror_mode": {
    "name": "ipython",
    "version": 3
   },
   "file_extension": ".py",
   "mimetype": "text/x-python",
   "name": "python",
   "nbconvert_exporter": "python",
   "pygments_lexer": "ipython3",
   "version": "3.7.13"
  },
  "orig_nbformat": 4,
  "vscode": {
   "interpreter": {
    "hash": "3b8210207dea593cd78a47d19ab578efef95523f0b438f1eecba204cd30d51d3"
   }
  }
 },
 "nbformat": 4,
 "nbformat_minor": 2
}
